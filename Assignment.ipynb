{
 "cells": [
  {
   "cell_type": "code",
   "execution_count": 235,
   "metadata": {},
   "outputs": [],
   "source": [
    "import pandas as pd"
   ]
  },
  {
   "attachments": {
    "case1.PNG": {
     "image/png": "[encoded data removed]"
    }
   },
   "cell_type": "markdown",
   "metadata": {},
   "source": [
    "## CASE 1 : example of the csv file as below.\n",
    "![case1.PNG](attachment:case1.PNG)"
   ]
  },
  {
   "cell_type": "code",
   "execution_count": 404,
   "metadata": {},
   "outputs": [],
   "source": [
    "maze = pd.read_csv(\"C:/Users/admin/Desktop/practice/case1.csv\",header = None)"
   ]
  },
  {
   "cell_type": "code",
   "execution_count": 405,
   "metadata": {},
   "outputs": [
    {
     "data": {
      "text/html": [
       "<div>\n",
       "<style scoped>\n",
       "    .dataframe tbody tr th:only-of-type {\n",
       "        vertical-align: middle;\n",
       "    }\n",
       "\n",
       "    .dataframe tbody tr th {\n",
       "        vertical-align: top;\n",
       "    }\n",
       "\n",
       "    .dataframe thead th {\n",
       "        text-align: right;\n",
       "    }\n",
       "</style>\n",
       "<table border=\"1\" class=\"dataframe\">\n",
       "  <thead>\n",
       "    <tr style=\"text-align: right;\">\n",
       "      <th></th>\n",
       "      <th>0</th>\n",
       "      <th>1</th>\n",
       "      <th>2</th>\n",
       "      <th>3</th>\n",
       "      <th>4</th>\n",
       "    </tr>\n",
       "  </thead>\n",
       "  <tbody>\n",
       "    <tr>\n",
       "      <td>0</td>\n",
       "      <td>X</td>\n",
       "      <td>NaN</td>\n",
       "      <td>NaN</td>\n",
       "      <td>NaN</td>\n",
       "      <td>F</td>\n",
       "    </tr>\n",
       "    <tr>\n",
       "      <td>1</td>\n",
       "      <td>NaN</td>\n",
       "      <td>NaN</td>\n",
       "      <td>X</td>\n",
       "      <td>NaN</td>\n",
       "      <td>NaN</td>\n",
       "    </tr>\n",
       "    <tr>\n",
       "      <td>2</td>\n",
       "      <td>NaN</td>\n",
       "      <td>X</td>\n",
       "      <td>NaN</td>\n",
       "      <td>X</td>\n",
       "      <td>NaN</td>\n",
       "    </tr>\n",
       "    <tr>\n",
       "      <td>3</td>\n",
       "      <td>NaN</td>\n",
       "      <td>NaN</td>\n",
       "      <td>X</td>\n",
       "      <td>NaN</td>\n",
       "      <td>NaN</td>\n",
       "    </tr>\n",
       "    <tr>\n",
       "      <td>4</td>\n",
       "      <td>NaN</td>\n",
       "      <td>X</td>\n",
       "      <td>NaN</td>\n",
       "      <td>X</td>\n",
       "      <td>NaN</td>\n",
       "    </tr>\n",
       "    <tr>\n",
       "      <td>5</td>\n",
       "      <td>NaN</td>\n",
       "      <td>X</td>\n",
       "      <td>NaN</td>\n",
       "      <td>NaN</td>\n",
       "      <td>NaN</td>\n",
       "    </tr>\n",
       "    <tr>\n",
       "      <td>6</td>\n",
       "      <td>S</td>\n",
       "      <td>NaN</td>\n",
       "      <td>X</td>\n",
       "      <td>NaN</td>\n",
       "      <td>NaN</td>\n",
       "    </tr>\n",
       "  </tbody>\n",
       "</table>\n",
       "</div>"
      ],
      "text/plain": [
       "     0    1    2    3    4\n",
       "0    X  NaN  NaN  NaN    F\n",
       "1  NaN  NaN    X  NaN  NaN\n",
       "2  NaN    X  NaN    X  NaN\n",
       "3  NaN  NaN    X  NaN  NaN\n",
       "4  NaN    X  NaN    X  NaN\n",
       "5  NaN    X  NaN  NaN  NaN\n",
       "6    S  NaN    X  NaN  NaN"
      ]
     },
     "execution_count": 405,
     "metadata": {},
     "output_type": "execute_result"
    }
   ],
   "source": [
    "maze"
   ]
  },
  {
   "cell_type": "markdown",
   "metadata": {},
   "source": [
    "#### In the above dataframe \"S\" is starting point and \"F\" is ending point.\"X\" is Wall and NaN is empty value where we can pass through to reach F"
   ]
  },
  {
   "cell_type": "code",
   "execution_count": 406,
   "metadata": {},
   "outputs": [
    {
     "data": {
      "text/plain": [
       "array([['X', nan, nan, nan, 'F'],\n",
       "       [nan, nan, 'X', nan, nan],\n",
       "       [nan, 'X', nan, 'X', nan],\n",
       "       [nan, nan, 'X', nan, nan],\n",
       "       [nan, 'X', nan, 'X', nan],\n",
       "       [nan, 'X', nan, nan, nan],\n",
       "       ['S', nan, 'X', nan, nan]], dtype=object)"
      ]
     },
     "execution_count": 406,
     "metadata": {},
     "output_type": "execute_result"
    }
   ],
   "source": [
    "maze.values  "
   ]
  },
  {
   "cell_type": "code",
   "execution_count": 407,
   "metadata": {},
   "outputs": [],
   "source": [
    "maze = maze.values  #convert the dataframe into array"
   ]
  },
  {
   "cell_type": "code",
   "execution_count": 408,
   "metadata": {},
   "outputs": [
    {
     "data": {
      "text/plain": [
       "array([['X', nan, nan, nan, 'F'],\n",
       "       [nan, nan, 'X', nan, nan],\n",
       "       [nan, 'X', nan, 'X', nan],\n",
       "       [nan, nan, 'X', nan, nan],\n",
       "       [nan, 'X', nan, 'X', nan],\n",
       "       [nan, 'X', nan, nan, nan],\n",
       "       ['S', nan, 'X', nan, nan]], dtype=object)"
      ]
     },
     "execution_count": 408,
     "metadata": {},
     "output_type": "execute_result"
    }
   ],
   "source": [
    "maze"
   ]
  },
  {
   "cell_type": "code",
   "execution_count": 409,
   "metadata": {},
   "outputs": [],
   "source": [
    "def findpath(row,col):\n",
    "    print (\"STARTED = {} {}\".format(row,col) )\n",
    "    if maze[row][col] == 'F': # when reached F mark as true\n",
    "        print (\"F = {} {}\".format(row,col) )\n",
    "        return True\n",
    "    elif maze[row][col] == 'X': # when reaches X this means wall\n",
    "        print (\"x = {} {}\".format(row,col) )\n",
    "        return False\n",
    "    elif maze[row][col] == 'V': # visited cell marked as V \n",
    "        print (\"V = {} {}\".format(row,col) )\n",
    "        return False\n",
    "    maze[row][col] = 'V'\n",
    " # recursive loop to     \n",
    "    if  ((col < len(maze)-1 and findpath(row, col+1))\n",
    "       or (row > 0 and findpath(row-1, col))\n",
    "       or (col > 0 and findpath(row, col-1)) \n",
    "       or (row < len(maze)-1 and findpath(row+1, col))):\n",
    "        maze_route.append([row,col])\n",
    "        return True\n",
    "    print('out of loop')\n",
    "    return False"
   ]
  },
  {
   "cell_type": "code",
   "execution_count": 410,
   "metadata": {},
   "outputs": [
    {
     "name": "stdout",
     "output_type": "stream",
     "text": [
      "STARTED = 6 0\n",
      "STARTED = 6 1\n",
      "STARTED = 6 2\n",
      "x = 6 2\n",
      "STARTED = 5 1\n",
      "x = 5 1\n",
      "STARTED = 6 0\n",
      "V = 6 0\n",
      "out of loop\n",
      "STARTED = 5 0\n",
      "STARTED = 5 1\n",
      "x = 5 1\n",
      "STARTED = 4 0\n",
      "STARTED = 4 1\n",
      "x = 4 1\n",
      "STARTED = 3 0\n",
      "STARTED = 3 1\n",
      "STARTED = 3 2\n",
      "x = 3 2\n",
      "STARTED = 2 1\n",
      "x = 2 1\n",
      "STARTED = 3 0\n",
      "V = 3 0\n",
      "STARTED = 4 1\n",
      "x = 4 1\n",
      "out of loop\n",
      "STARTED = 2 0\n",
      "STARTED = 2 1\n",
      "x = 2 1\n",
      "STARTED = 1 0\n",
      "STARTED = 1 1\n",
      "STARTED = 1 2\n",
      "x = 1 2\n",
      "STARTED = 0 1\n",
      "STARTED = 0 2\n",
      "STARTED = 0 3\n",
      "STARTED = 0 4\n",
      "F = 0 4\n"
     ]
    },
    {
     "data": {
      "text/plain": [
       "True"
      ]
     },
     "execution_count": 410,
     "metadata": {},
     "output_type": "execute_result"
    }
   ],
   "source": [
    "maze_route = []\n",
    "findpath(len(maze)-1,0)"
   ]
  },
  {
   "cell_type": "code",
   "execution_count": 411,
   "metadata": {},
   "outputs": [],
   "source": [
    "maze1_route = maze_route\n",
    "maze1 = maze"
   ]
  },
  {
   "cell_type": "code",
   "execution_count": 412,
   "metadata": {},
   "outputs": [
    {
     "data": {
      "text/plain": [
       "array([['X', 'V', 'V', 'V', 'F'],\n",
       "       ['V', 'V', 'X', nan, nan],\n",
       "       ['V', 'X', nan, 'X', nan],\n",
       "       ['V', 'V', 'X', nan, nan],\n",
       "       ['V', 'X', nan, 'X', nan],\n",
       "       ['V', 'X', nan, nan, nan],\n",
       "       ['V', 'V', 'X', nan, nan]], dtype=object)"
      ]
     },
     "execution_count": 412,
     "metadata": {},
     "output_type": "execute_result"
    }
   ],
   "source": [
    "maze1 # In the below array V represents alogorithm reached all these cells to see if there is path to reach F."
   ]
  },
  {
   "cell_type": "code",
   "execution_count": 413,
   "metadata": {},
   "outputs": [
    {
     "data": {
      "text/plain": [
       "[[6, 0],\n",
       " [5, 0],\n",
       " [4, 0],\n",
       " [3, 0],\n",
       " [2, 0],\n",
       " [1, 0],\n",
       " [1, 1],\n",
       " [0, 1],\n",
       " [0, 2],\n",
       " [0, 3]]"
      ]
     },
     "execution_count": 413,
     "metadata": {},
     "output_type": "execute_result"
    }
   ],
   "source": [
    "maze1_route[::-1] # path how we can reach from S to F"
   ]
  },
  {
   "attachments": {
    "image.png": {
     "image/png": "[encoded data removed]"
    }
   },
   "cell_type": "markdown",
   "metadata": {},
   "source": [
    "# CASE 2 : example of the csv file\n",
    "![image.png](attachment:image.png)"
   ]
  },
  {
   "cell_type": "code",
   "execution_count": null,
   "metadata": {},
   "outputs": [],
   "source": []
  },
  {
   "cell_type": "code",
   "execution_count": 371,
   "metadata": {},
   "outputs": [],
   "source": [
    "maze = pd.read_csv(\"C:/Users/admin/Desktop/practice/case2.csv\",header = None)"
   ]
  },
  {
   "cell_type": "code",
   "execution_count": 372,
   "metadata": {},
   "outputs": [
    {
     "data": {
      "text/html": [
       "<div>\n",
       "<style scoped>\n",
       "    .dataframe tbody tr th:only-of-type {\n",
       "        vertical-align: middle;\n",
       "    }\n",
       "\n",
       "    .dataframe tbody tr th {\n",
       "        vertical-align: top;\n",
       "    }\n",
       "\n",
       "    .dataframe thead th {\n",
       "        text-align: right;\n",
       "    }\n",
       "</style>\n",
       "<table border=\"1\" class=\"dataframe\">\n",
       "  <thead>\n",
       "    <tr style=\"text-align: right;\">\n",
       "      <th></th>\n",
       "      <th>0</th>\n",
       "      <th>1</th>\n",
       "      <th>2</th>\n",
       "      <th>3</th>\n",
       "      <th>4</th>\n",
       "    </tr>\n",
       "  </thead>\n",
       "  <tbody>\n",
       "    <tr>\n",
       "      <td>0</td>\n",
       "      <td>X</td>\n",
       "      <td>NaN</td>\n",
       "      <td>NaN</td>\n",
       "      <td>NaN</td>\n",
       "      <td>F</td>\n",
       "    </tr>\n",
       "    <tr>\n",
       "      <td>1</td>\n",
       "      <td>NaN</td>\n",
       "      <td>X</td>\n",
       "      <td>NaN</td>\n",
       "      <td>X</td>\n",
       "      <td>NaN</td>\n",
       "    </tr>\n",
       "    <tr>\n",
       "      <td>2</td>\n",
       "      <td>NaN</td>\n",
       "      <td>NaN</td>\n",
       "      <td>NaN</td>\n",
       "      <td>X</td>\n",
       "      <td>NaN</td>\n",
       "    </tr>\n",
       "    <tr>\n",
       "      <td>3</td>\n",
       "      <td>X</td>\n",
       "      <td>NaN</td>\n",
       "      <td>X</td>\n",
       "      <td>NaN</td>\n",
       "      <td>NaN</td>\n",
       "    </tr>\n",
       "    <tr>\n",
       "      <td>4</td>\n",
       "      <td>NaN</td>\n",
       "      <td>NaN</td>\n",
       "      <td>X</td>\n",
       "      <td>X</td>\n",
       "      <td>NaN</td>\n",
       "    </tr>\n",
       "    <tr>\n",
       "      <td>5</td>\n",
       "      <td>NaN</td>\n",
       "      <td>X</td>\n",
       "      <td>NaN</td>\n",
       "      <td>NaN</td>\n",
       "      <td>NaN</td>\n",
       "    </tr>\n",
       "    <tr>\n",
       "      <td>6</td>\n",
       "      <td>S</td>\n",
       "      <td>NaN</td>\n",
       "      <td>X</td>\n",
       "      <td>NaN</td>\n",
       "      <td>NaN</td>\n",
       "    </tr>\n",
       "  </tbody>\n",
       "</table>\n",
       "</div>"
      ],
      "text/plain": [
       "     0    1    2    3    4\n",
       "0    X  NaN  NaN  NaN    F\n",
       "1  NaN    X  NaN    X  NaN\n",
       "2  NaN  NaN  NaN    X  NaN\n",
       "3    X  NaN    X  NaN  NaN\n",
       "4  NaN  NaN    X    X  NaN\n",
       "5  NaN    X  NaN  NaN  NaN\n",
       "6    S  NaN    X  NaN  NaN"
      ]
     },
     "execution_count": 372,
     "metadata": {},
     "output_type": "execute_result"
    }
   ],
   "source": [
    "maze"
   ]
  },
  {
   "cell_type": "code",
   "execution_count": 373,
   "metadata": {},
   "outputs": [],
   "source": [
    "maze = maze.values"
   ]
  },
  {
   "cell_type": "code",
   "execution_count": 374,
   "metadata": {},
   "outputs": [
    {
     "data": {
      "text/plain": [
       "array([['X', nan, nan, nan, 'F'],\n",
       "       [nan, 'X', nan, 'X', nan],\n",
       "       [nan, nan, nan, 'X', nan],\n",
       "       ['X', nan, 'X', nan, nan],\n",
       "       [nan, nan, 'X', 'X', nan],\n",
       "       [nan, 'X', nan, nan, nan],\n",
       "       ['S', nan, 'X', nan, nan]], dtype=object)"
      ]
     },
     "execution_count": 374,
     "metadata": {},
     "output_type": "execute_result"
    }
   ],
   "source": [
    "maze"
   ]
  },
  {
   "cell_type": "code",
   "execution_count": 375,
   "metadata": {},
   "outputs": [
    {
     "name": "stdout",
     "output_type": "stream",
     "text": [
      "STARTED = 6 0\n",
      "STARTED = 6 1\n",
      "STARTED = 6 2\n",
      "x = 6 2\n",
      "STARTED = 5 1\n",
      "x = 5 1\n",
      "STARTED = 6 0\n",
      "V = 6 0\n",
      "out of loop\n",
      "STARTED = 5 0\n",
      "STARTED = 5 1\n",
      "x = 5 1\n",
      "STARTED = 4 0\n",
      "STARTED = 4 1\n",
      "STARTED = 4 2\n",
      "x = 4 2\n",
      "STARTED = 3 1\n",
      "STARTED = 3 2\n",
      "x = 3 2\n",
      "STARTED = 2 1\n",
      "STARTED = 2 2\n",
      "STARTED = 2 3\n",
      "x = 2 3\n",
      "STARTED = 1 2\n",
      "STARTED = 1 3\n",
      "x = 1 3\n",
      "STARTED = 0 2\n",
      "STARTED = 0 3\n",
      "STARTED = 0 4\n",
      "F = 0 4\n"
     ]
    },
    {
     "data": {
      "text/plain": [
       "True"
      ]
     },
     "execution_count": 375,
     "metadata": {},
     "output_type": "execute_result"
    }
   ],
   "source": [
    "maze_route = []\n",
    "findpath(len(maze)-1,0)"
   ]
  },
  {
   "cell_type": "code",
   "execution_count": 376,
   "metadata": {},
   "outputs": [],
   "source": [
    "maze2_route = maze_route\n",
    "maze2 = maze"
   ]
  },
  {
   "cell_type": "code",
   "execution_count": 377,
   "metadata": {},
   "outputs": [
    {
     "data": {
      "text/plain": [
       "array([['X', nan, 'V', 'V', 'F'],\n",
       "       [nan, 'X', 'V', 'X', nan],\n",
       "       [nan, 'V', 'V', 'X', nan],\n",
       "       ['X', 'V', 'X', nan, nan],\n",
       "       ['V', 'V', 'X', 'X', nan],\n",
       "       ['V', 'X', nan, nan, nan],\n",
       "       ['V', 'V', 'X', nan, nan]], dtype=object)"
      ]
     },
     "execution_count": 377,
     "metadata": {},
     "output_type": "execute_result"
    }
   ],
   "source": [
    "maze2   # In the below array V represents alogorithm reached all these cells to see if there is path to reach F."
   ]
  },
  {
   "cell_type": "code",
   "execution_count": 379,
   "metadata": {},
   "outputs": [
    {
     "data": {
      "text/plain": [
       "[[6, 0],\n",
       " [5, 0],\n",
       " [4, 0],\n",
       " [4, 1],\n",
       " [3, 1],\n",
       " [2, 1],\n",
       " [2, 2],\n",
       " [1, 2],\n",
       " [0, 2],\n",
       " [0, 3]]"
      ]
     },
     "execution_count": 379,
     "metadata": {},
     "output_type": "execute_result"
    }
   ],
   "source": [
    "maze2_route[::-1]  # path how we can reach from S to F"
   ]
  },
  {
   "attachments": {
    "image.png": {
     "image/png": "[encoded data removed]"
    }
   },
   "cell_type": "markdown",
   "metadata": {},
   "source": [
    "# CASE 3 : example of the csv file\n",
    "![image.png](attachment:image.png)"
   ]
  },
  {
   "cell_type": "code",
   "execution_count": 396,
   "metadata": {},
   "outputs": [],
   "source": [
    "maze = pd.read_csv(\"C:/Users/admin/Desktop/practice/case3.csv\",header = None)"
   ]
  },
  {
   "cell_type": "code",
   "execution_count": 397,
   "metadata": {},
   "outputs": [
    {
     "data": {
      "text/html": [
       "<div>\n",
       "<style scoped>\n",
       "    .dataframe tbody tr th:only-of-type {\n",
       "        vertical-align: middle;\n",
       "    }\n",
       "\n",
       "    .dataframe tbody tr th {\n",
       "        vertical-align: top;\n",
       "    }\n",
       "\n",
       "    .dataframe thead th {\n",
       "        text-align: right;\n",
       "    }\n",
       "</style>\n",
       "<table border=\"1\" class=\"dataframe\">\n",
       "  <thead>\n",
       "    <tr style=\"text-align: right;\">\n",
       "      <th></th>\n",
       "      <th>0</th>\n",
       "      <th>1</th>\n",
       "      <th>2</th>\n",
       "      <th>3</th>\n",
       "      <th>4</th>\n",
       "    </tr>\n",
       "  </thead>\n",
       "  <tbody>\n",
       "    <tr>\n",
       "      <td>0</td>\n",
       "      <td>X</td>\n",
       "      <td>X</td>\n",
       "      <td>NaN</td>\n",
       "      <td>NaN</td>\n",
       "      <td>F</td>\n",
       "    </tr>\n",
       "    <tr>\n",
       "      <td>1</td>\n",
       "      <td>NaN</td>\n",
       "      <td>NaN</td>\n",
       "      <td>NaN</td>\n",
       "      <td>X</td>\n",
       "      <td>X</td>\n",
       "    </tr>\n",
       "    <tr>\n",
       "      <td>2</td>\n",
       "      <td>NaN</td>\n",
       "      <td>X</td>\n",
       "      <td>NaN</td>\n",
       "      <td>NaN</td>\n",
       "      <td>X</td>\n",
       "    </tr>\n",
       "    <tr>\n",
       "      <td>3</td>\n",
       "      <td>X</td>\n",
       "      <td>NaN</td>\n",
       "      <td>NaN</td>\n",
       "      <td>X</td>\n",
       "      <td>X</td>\n",
       "    </tr>\n",
       "    <tr>\n",
       "      <td>4</td>\n",
       "      <td>NaN</td>\n",
       "      <td>X</td>\n",
       "      <td>NaN</td>\n",
       "      <td>NaN</td>\n",
       "      <td>X</td>\n",
       "    </tr>\n",
       "    <tr>\n",
       "      <td>5</td>\n",
       "      <td>X</td>\n",
       "      <td>NaN</td>\n",
       "      <td>NaN</td>\n",
       "      <td>X</td>\n",
       "      <td>NaN</td>\n",
       "    </tr>\n",
       "    <tr>\n",
       "      <td>6</td>\n",
       "      <td>S</td>\n",
       "      <td>NaN</td>\n",
       "      <td>X</td>\n",
       "      <td>NaN</td>\n",
       "      <td>NaN</td>\n",
       "    </tr>\n",
       "  </tbody>\n",
       "</table>\n",
       "</div>"
      ],
      "text/plain": [
       "     0    1    2    3    4\n",
       "0    X    X  NaN  NaN    F\n",
       "1  NaN  NaN  NaN    X    X\n",
       "2  NaN    X  NaN  NaN    X\n",
       "3    X  NaN  NaN    X    X\n",
       "4  NaN    X  NaN  NaN    X\n",
       "5    X  NaN  NaN    X  NaN\n",
       "6    S  NaN    X  NaN  NaN"
      ]
     },
     "execution_count": 397,
     "metadata": {},
     "output_type": "execute_result"
    }
   ],
   "source": [
    "maze"
   ]
  },
  {
   "cell_type": "code",
   "execution_count": 398,
   "metadata": {},
   "outputs": [],
   "source": [
    "maze = maze.values"
   ]
  },
  {
   "cell_type": "code",
   "execution_count": 399,
   "metadata": {},
   "outputs": [
    {
     "data": {
      "text/plain": [
       "array([['X', 'X', nan, nan, 'F'],\n",
       "       [nan, nan, nan, 'X', 'X'],\n",
       "       [nan, 'X', nan, nan, 'X'],\n",
       "       ['X', nan, nan, 'X', 'X'],\n",
       "       [nan, 'X', nan, nan, 'X'],\n",
       "       ['X', nan, nan, 'X', nan],\n",
       "       ['S', nan, 'X', nan, nan]], dtype=object)"
      ]
     },
     "execution_count": 399,
     "metadata": {},
     "output_type": "execute_result"
    }
   ],
   "source": [
    "maze"
   ]
  },
  {
   "cell_type": "code",
   "execution_count": 400,
   "metadata": {},
   "outputs": [
    {
     "name": "stdout",
     "output_type": "stream",
     "text": [
      "STARTED = 6 0\n",
      "STARTED = 6 1\n",
      "STARTED = 6 2\n",
      "x = 6 2\n",
      "STARTED = 5 1\n",
      "STARTED = 5 2\n",
      "STARTED = 5 3\n",
      "x = 5 3\n",
      "STARTED = 4 2\n",
      "STARTED = 4 3\n",
      "STARTED = 4 4\n",
      "x = 4 4\n",
      "STARTED = 3 3\n",
      "x = 3 3\n",
      "STARTED = 4 2\n",
      "V = 4 2\n",
      "STARTED = 5 3\n",
      "x = 5 3\n",
      "out of loop\n",
      "STARTED = 3 2\n",
      "STARTED = 3 3\n",
      "x = 3 3\n",
      "STARTED = 2 2\n",
      "STARTED = 2 3\n",
      "STARTED = 2 4\n",
      "x = 2 4\n",
      "STARTED = 1 3\n",
      "x = 1 3\n",
      "STARTED = 2 2\n",
      "V = 2 2\n",
      "STARTED = 3 3\n",
      "x = 3 3\n",
      "out of loop\n",
      "STARTED = 1 2\n",
      "STARTED = 1 3\n",
      "x = 1 3\n",
      "STARTED = 0 2\n",
      "STARTED = 0 3\n",
      "STARTED = 0 4\n",
      "F = 0 4\n"
     ]
    },
    {
     "data": {
      "text/plain": [
       "True"
      ]
     },
     "execution_count": 400,
     "metadata": {},
     "output_type": "execute_result"
    }
   ],
   "source": [
    "maze_route = []\n",
    "findpath(len(maze)-1,0)"
   ]
  },
  {
   "cell_type": "code",
   "execution_count": 401,
   "metadata": {},
   "outputs": [],
   "source": [
    "maze3_route = maze_route\n",
    "maze3 = maze"
   ]
  },
  {
   "cell_type": "code",
   "execution_count": 402,
   "metadata": {},
   "outputs": [
    {
     "data": {
      "text/plain": [
       "array([['X', 'X', 'V', 'V', 'F'],\n",
       "       [nan, nan, 'V', 'X', 'X'],\n",
       "       [nan, 'X', 'V', 'V', 'X'],\n",
       "       ['X', nan, 'V', 'X', 'X'],\n",
       "       [nan, 'X', 'V', 'V', 'X'],\n",
       "       ['X', 'V', 'V', 'X', nan],\n",
       "       ['V', 'V', 'X', nan, nan]], dtype=object)"
      ]
     },
     "execution_count": 402,
     "metadata": {},
     "output_type": "execute_result"
    }
   ],
   "source": [
    "maze3  # In the below array V represents alogorithm reached all these cells to see if there is path to reach F."
   ]
  },
  {
   "cell_type": "code",
   "execution_count": 403,
   "metadata": {},
   "outputs": [
    {
     "data": {
      "text/plain": [
       "[[6, 0],\n",
       " [6, 1],\n",
       " [5, 1],\n",
       " [5, 2],\n",
       " [4, 2],\n",
       " [3, 2],\n",
       " [2, 2],\n",
       " [1, 2],\n",
       " [0, 2],\n",
       " [0, 3]]"
      ]
     },
     "execution_count": 403,
     "metadata": {},
     "output_type": "execute_result"
    }
   ],
   "source": [
    "maze3_route[::-1] # path how we can reach from S to F"
   ]
  },
  {
   "cell_type": "code",
   "execution_count": null,
   "metadata": {},
   "outputs": [],
   "source": []
  }
 ],
 "metadata": {
  "kernelspec": {
   "display_name": "Python 3",
   "language": "python",
   "name": "python3"
  },
  "language_info": {
   "codemirror_mode": {
    "name": "ipython",
    "version": 3
   },
   "file_extension": ".py",
   "mimetype": "text/x-python",
   "name": "python",
   "nbconvert_exporter": "python",
   "pygments_lexer": "ipython3",
   "version": "3.7.4"
  }
 },
 "nbformat": 4,
 "nbformat_minor": 2
}
